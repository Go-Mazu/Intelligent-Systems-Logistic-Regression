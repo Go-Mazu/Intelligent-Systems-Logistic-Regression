{
  "nbformat": 4,
  "nbformat_minor": 0,
  "metadata": {
    "colab": {
      "name": "Intelligent Systems Logistic Regression Govinda Mazumder",
      "provenance": [],
      "collapsed_sections": []
    },
    "kernelspec": {
      "name": "python3",
      "display_name": "Python 3"
    },
    "language_info": {
      "name": "python"
    }
  },
  "cells": [
    {
      "cell_type": "code",
      "metadata": {
        "id": "Y3x_ULJ5sKsf"
      },
      "source": [
        "import pandas as pd\n",
        "import numpy as np\n",
        "import matplotlib.pyplot as plt\n",
        "import seaborn as sn\n",
        "import random\n",
        "from sklearn.metrics import accuracy_score\n",
        "random.seed(10)\n",
        "from google.colab import files\n",
        "d = pd.read_csv('heart.csv')"
      ],
      "execution_count": null,
      "outputs": []
    },
    {
      "cell_type": "code",
      "metadata": {
        "colab": {
          "base_uri": "https://localhost:8080/"
        },
        "id": "W6UmyoXwwL1f",
        "outputId": "f3d27f0d-f6b9-4c11-ccb5-06efd276f9f7"
      },
      "source": [
        "class1amount = d.loc[d.chd == 1, 'chd'].count()\n",
        "class0amount = d.loc[d.chd == 0, 'chd'].count()\n",
        "rows = len(d.axes[0])\n",
        "percentclass1 = (class1amount/rows)*100\n",
        "percentclass0 = (class0amount/rows)*100\n",
        "print(\"The number of samples is \" + str(rows))\n",
        "print(\"The number of samples is \" + str(len(d)))\n",
        "print(\"The number of 1's is \" + str(class1amount))\n",
        "print(\"The number of 0's is \" + str(class0amount))\n",
        "print(\"The percentage of class 1 is \" + str(percentclass1))\n",
        "print(\"The percentage of class 0 is \" + str(percentclass0))"
      ],
      "execution_count": null,
      "outputs": [
        {
          "output_type": "stream",
          "text": [
            "The number of samples is 462\n",
            "The number of samples is 462\n",
            "The number of 1's is 160\n",
            "The number of 0's is 302\n",
            "The percentage of class 1 is 34.63203463203463\n",
            "The percentage of class 0 is 65.36796536796537\n"
          ],
          "name": "stdout"
        }
      ]
    },
    {
      "cell_type": "code",
      "metadata": {
        "colab": {
          "base_uri": "https://localhost:8080/"
        },
        "id": "y1UgmNNLOOzY",
        "outputId": "5c88b2d6-7f00-4f72-9f85-6e12170fff77"
      },
      "source": [
        "print(d.isnull().values.any())\n",
        "print(d.isnull().sum())\n",
        "# both lines check the entire data set for any missing values, the first sweeps the entire set and returns True or False depending\n",
        "# on whether there are any missing and the second checks how many missing in each column"
      ],
      "execution_count": null,
      "outputs": [
        {
          "output_type": "stream",
          "text": [
            "False\n",
            "row.names    0\n",
            "sbp          0\n",
            "tobacco      0\n",
            "ldl          0\n",
            "adiposity    0\n",
            "famhist      0\n",
            "typea        0\n",
            "obesity      0\n",
            "alcohol      0\n",
            "age          0\n",
            "chd          0\n",
            "dtype: int64\n"
          ],
          "name": "stdout"
        }
      ]
    },
    {
      "cell_type": "code",
      "metadata": {
        "colab": {
          "base_uri": "https://localhost:8080/"
        },
        "id": "aWjCbi0TTzL4",
        "outputId": "6adf5b62-5cf8-418a-9997-49f143f92d8a"
      },
      "source": [
        "d.select_dtypes(include=['object', 'category']).columns.tolist()"
      ],
      "execution_count": null,
      "outputs": [
        {
          "output_type": "execute_result",
          "data": {
            "text/plain": [
              "['famhist']"
            ]
          },
          "metadata": {
            "tags": []
          },
          "execution_count": 6
        }
      ]
    },
    {
      "cell_type": "code",
      "metadata": {
        "colab": {
          "base_uri": "https://localhost:8080/"
        },
        "id": "xhVwOa_Emizh",
        "outputId": "a1bf63e8-a87b-4938-9eb6-bf5ec43ea5a6"
      },
      "source": [
        "d.nunique()"
      ],
      "execution_count": null,
      "outputs": [
        {
          "output_type": "execute_result",
          "data": {
            "text/plain": [
              "row.names    462\n",
              "sbp           62\n",
              "tobacco      214\n",
              "ldl          329\n",
              "adiposity    408\n",
              "famhist        2\n",
              "typea         54\n",
              "obesity      400\n",
              "alcohol      249\n",
              "age           49\n",
              "chd            2\n",
              "dtype: int64"
            ]
          },
          "metadata": {
            "tags": []
          },
          "execution_count": 7
        }
      ]
    },
    {
      "cell_type": "code",
      "metadata": {
        "colab": {
          "base_uri": "https://localhost:8080/",
          "height": 357
        },
        "id": "FCuXnJ7uqm1e",
        "outputId": "f54dfe7e-2b12-4766-f831-a7b3649848b5"
      },
      "source": [
        "correlationMatrix = d.corr()\n",
        "correlationMatrix"
      ],
      "execution_count": null,
      "outputs": [
        {
          "output_type": "execute_result",
          "data": {
            "text/html": [
              "<div>\n",
              "<style scoped>\n",
              "    .dataframe tbody tr th:only-of-type {\n",
              "        vertical-align: middle;\n",
              "    }\n",
              "\n",
              "    .dataframe tbody tr th {\n",
              "        vertical-align: top;\n",
              "    }\n",
              "\n",
              "    .dataframe thead th {\n",
              "        text-align: right;\n",
              "    }\n",
              "</style>\n",
              "<table border=\"1\" class=\"dataframe\">\n",
              "  <thead>\n",
              "    <tr style=\"text-align: right;\">\n",
              "      <th></th>\n",
              "      <th>row.names</th>\n",
              "      <th>sbp</th>\n",
              "      <th>tobacco</th>\n",
              "      <th>ldl</th>\n",
              "      <th>adiposity</th>\n",
              "      <th>typea</th>\n",
              "      <th>obesity</th>\n",
              "      <th>alcohol</th>\n",
              "      <th>age</th>\n",
              "      <th>chd</th>\n",
              "    </tr>\n",
              "  </thead>\n",
              "  <tbody>\n",
              "    <tr>\n",
              "      <th>row.names</th>\n",
              "      <td>1.000000</td>\n",
              "      <td>0.171583</td>\n",
              "      <td>-0.044813</td>\n",
              "      <td>-0.064014</td>\n",
              "      <td>0.033851</td>\n",
              "      <td>-0.147769</td>\n",
              "      <td>-0.026758</td>\n",
              "      <td>0.088825</td>\n",
              "      <td>-0.014064</td>\n",
              "      <td>-0.063808</td>\n",
              "    </tr>\n",
              "    <tr>\n",
              "      <th>sbp</th>\n",
              "      <td>0.171583</td>\n",
              "      <td>1.000000</td>\n",
              "      <td>0.212247</td>\n",
              "      <td>0.158296</td>\n",
              "      <td>0.356500</td>\n",
              "      <td>-0.057454</td>\n",
              "      <td>0.238067</td>\n",
              "      <td>0.140096</td>\n",
              "      <td>0.388771</td>\n",
              "      <td>0.192354</td>\n",
              "    </tr>\n",
              "    <tr>\n",
              "      <th>tobacco</th>\n",
              "      <td>-0.044813</td>\n",
              "      <td>0.212247</td>\n",
              "      <td>1.000000</td>\n",
              "      <td>0.158905</td>\n",
              "      <td>0.286640</td>\n",
              "      <td>-0.014608</td>\n",
              "      <td>0.124529</td>\n",
              "      <td>0.200813</td>\n",
              "      <td>0.450330</td>\n",
              "      <td>0.299718</td>\n",
              "    </tr>\n",
              "    <tr>\n",
              "      <th>ldl</th>\n",
              "      <td>-0.064014</td>\n",
              "      <td>0.158296</td>\n",
              "      <td>0.158905</td>\n",
              "      <td>1.000000</td>\n",
              "      <td>0.440432</td>\n",
              "      <td>0.044048</td>\n",
              "      <td>0.330506</td>\n",
              "      <td>-0.033403</td>\n",
              "      <td>0.311799</td>\n",
              "      <td>0.263053</td>\n",
              "    </tr>\n",
              "    <tr>\n",
              "      <th>adiposity</th>\n",
              "      <td>0.033851</td>\n",
              "      <td>0.356500</td>\n",
              "      <td>0.286640</td>\n",
              "      <td>0.440432</td>\n",
              "      <td>1.000000</td>\n",
              "      <td>-0.043144</td>\n",
              "      <td>0.716556</td>\n",
              "      <td>0.100330</td>\n",
              "      <td>0.625954</td>\n",
              "      <td>0.254121</td>\n",
              "    </tr>\n",
              "    <tr>\n",
              "      <th>typea</th>\n",
              "      <td>-0.147769</td>\n",
              "      <td>-0.057454</td>\n",
              "      <td>-0.014608</td>\n",
              "      <td>0.044048</td>\n",
              "      <td>-0.043144</td>\n",
              "      <td>1.000000</td>\n",
              "      <td>0.074006</td>\n",
              "      <td>0.039498</td>\n",
              "      <td>-0.102606</td>\n",
              "      <td>0.103156</td>\n",
              "    </tr>\n",
              "    <tr>\n",
              "      <th>obesity</th>\n",
              "      <td>-0.026758</td>\n",
              "      <td>0.238067</td>\n",
              "      <td>0.124529</td>\n",
              "      <td>0.330506</td>\n",
              "      <td>0.716556</td>\n",
              "      <td>0.074006</td>\n",
              "      <td>1.000000</td>\n",
              "      <td>0.051620</td>\n",
              "      <td>0.291777</td>\n",
              "      <td>0.100095</td>\n",
              "    </tr>\n",
              "    <tr>\n",
              "      <th>alcohol</th>\n",
              "      <td>0.088825</td>\n",
              "      <td>0.140096</td>\n",
              "      <td>0.200813</td>\n",
              "      <td>-0.033403</td>\n",
              "      <td>0.100330</td>\n",
              "      <td>0.039498</td>\n",
              "      <td>0.051620</td>\n",
              "      <td>1.000000</td>\n",
              "      <td>0.101125</td>\n",
              "      <td>0.062531</td>\n",
              "    </tr>\n",
              "    <tr>\n",
              "      <th>age</th>\n",
              "      <td>-0.014064</td>\n",
              "      <td>0.388771</td>\n",
              "      <td>0.450330</td>\n",
              "      <td>0.311799</td>\n",
              "      <td>0.625954</td>\n",
              "      <td>-0.102606</td>\n",
              "      <td>0.291777</td>\n",
              "      <td>0.101125</td>\n",
              "      <td>1.000000</td>\n",
              "      <td>0.372973</td>\n",
              "    </tr>\n",
              "    <tr>\n",
              "      <th>chd</th>\n",
              "      <td>-0.063808</td>\n",
              "      <td>0.192354</td>\n",
              "      <td>0.299718</td>\n",
              "      <td>0.263053</td>\n",
              "      <td>0.254121</td>\n",
              "      <td>0.103156</td>\n",
              "      <td>0.100095</td>\n",
              "      <td>0.062531</td>\n",
              "      <td>0.372973</td>\n",
              "      <td>1.000000</td>\n",
              "    </tr>\n",
              "  </tbody>\n",
              "</table>\n",
              "</div>"
            ],
            "text/plain": [
              "           row.names       sbp   tobacco  ...   alcohol       age       chd\n",
              "row.names   1.000000  0.171583 -0.044813  ...  0.088825 -0.014064 -0.063808\n",
              "sbp         0.171583  1.000000  0.212247  ...  0.140096  0.388771  0.192354\n",
              "tobacco    -0.044813  0.212247  1.000000  ...  0.200813  0.450330  0.299718\n",
              "ldl        -0.064014  0.158296  0.158905  ... -0.033403  0.311799  0.263053\n",
              "adiposity   0.033851  0.356500  0.286640  ...  0.100330  0.625954  0.254121\n",
              "typea      -0.147769 -0.057454 -0.014608  ...  0.039498 -0.102606  0.103156\n",
              "obesity    -0.026758  0.238067  0.124529  ...  0.051620  0.291777  0.100095\n",
              "alcohol     0.088825  0.140096  0.200813  ...  1.000000  0.101125  0.062531\n",
              "age        -0.014064  0.388771  0.450330  ...  0.101125  1.000000  0.372973\n",
              "chd        -0.063808  0.192354  0.299718  ...  0.062531  0.372973  1.000000\n",
              "\n",
              "[10 rows x 10 columns]"
            ]
          },
          "metadata": {
            "tags": []
          },
          "execution_count": 8
        }
      ]
    },
    {
      "cell_type": "code",
      "metadata": {
        "colab": {
          "base_uri": "https://localhost:8080/",
          "height": 313
        },
        "id": "VTHSRCNuntWY",
        "outputId": "ea381bdf-72b2-486b-8d7d-08f494cdc16f"
      },
      "source": [
        "sn.heatmap(correlationMatrix, annot = True)\n",
        "plt.show()"
      ],
      "execution_count": null,
      "outputs": [
        {
          "output_type": "display_data",
          "data": {
            "image/png": "[encoded data removed]",
            "text/plain": [
              "<Figure size 432x288 with 2 Axes>"
            ]
          },
          "metadata": {
            "tags": [],
            "needs_background": "light"
          }
        }
      ]
    },
    {
      "cell_type": "markdown",
      "metadata": {
        "id": "c_bJtyuNrdwK"
      },
      "source": [
        "As shown by the correlation matrix there seems to be no significan negative correlation to consider, therefore the use of absolute values would make no difference here. There is noteable strong positive correlation between adiposity and obesity, moderate positive correlation between adiposty and age, and low positive correlation between tobacco and age. The aforementioned 3 pairings are the 3 most correlative. "
      ]
    },
    {
      "cell_type": "code",
      "metadata": {
        "colab": {
          "base_uri": "https://localhost:8080/",
          "height": 417
        },
        "id": "bO8xfodht08U",
        "outputId": "506e3053-ec28-49bd-bb1d-107c42166f98"
      },
      "source": [
        "pd.get_dummies(data=d, columns=['famhist'])"
      ],
      "execution_count": null,
      "outputs": [
        {
          "output_type": "execute_result",
          "data": {
            "text/html": [
              "<div>\n",
              "<style scoped>\n",
              "    .dataframe tbody tr th:only-of-type {\n",
              "        vertical-align: middle;\n",
              "    }\n",
              "\n",
              "    .dataframe tbody tr th {\n",
              "        vertical-align: top;\n",
              "    }\n",
              "\n",
              "    .dataframe thead th {\n",
              "        text-align: right;\n",
              "    }\n",
              "</style>\n",
              "<table border=\"1\" class=\"dataframe\">\n",
              "  <thead>\n",
              "    <tr style=\"text-align: right;\">\n",
              "      <th></th>\n",
              "      <th>row.names</th>\n",
              "      <th>sbp</th>\n",
              "      <th>tobacco</th>\n",
              "      <th>ldl</th>\n",
              "      <th>adiposity</th>\n",
              "      <th>typea</th>\n",
              "      <th>obesity</th>\n",
              "      <th>alcohol</th>\n",
              "      <th>age</th>\n",
              "      <th>chd</th>\n",
              "      <th>famhist_Absent</th>\n",
              "      <th>famhist_Present</th>\n",
              "    </tr>\n",
              "  </thead>\n",
              "  <tbody>\n",
              "    <tr>\n",
              "      <th>0</th>\n",
              "      <td>1</td>\n",
              "      <td>160</td>\n",
              "      <td>12.00</td>\n",
              "      <td>5.73</td>\n",
              "      <td>23.11</td>\n",
              "      <td>49</td>\n",
              "      <td>25.30</td>\n",
              "      <td>97.20</td>\n",
              "      <td>52</td>\n",
              "      <td>1</td>\n",
              "      <td>0</td>\n",
              "      <td>1</td>\n",
              "    </tr>\n",
              "    <tr>\n",
              "      <th>1</th>\n",
              "      <td>2</td>\n",
              "      <td>144</td>\n",
              "      <td>0.01</td>\n",
              "      <td>4.41</td>\n",
              "      <td>28.61</td>\n",
              "      <td>55</td>\n",
              "      <td>28.87</td>\n",
              "      <td>2.06</td>\n",
              "      <td>63</td>\n",
              "      <td>1</td>\n",
              "      <td>1</td>\n",
              "      <td>0</td>\n",
              "    </tr>\n",
              "    <tr>\n",
              "      <th>2</th>\n",
              "      <td>3</td>\n",
              "      <td>118</td>\n",
              "      <td>0.08</td>\n",
              "      <td>3.48</td>\n",
              "      <td>32.28</td>\n",
              "      <td>52</td>\n",
              "      <td>29.14</td>\n",
              "      <td>3.81</td>\n",
              "      <td>46</td>\n",
              "      <td>0</td>\n",
              "      <td>0</td>\n",
              "      <td>1</td>\n",
              "    </tr>\n",
              "    <tr>\n",
              "      <th>3</th>\n",
              "      <td>4</td>\n",
              "      <td>170</td>\n",
              "      <td>7.50</td>\n",
              "      <td>6.41</td>\n",
              "      <td>38.03</td>\n",
              "      <td>51</td>\n",
              "      <td>31.99</td>\n",
              "      <td>24.26</td>\n",
              "      <td>58</td>\n",
              "      <td>1</td>\n",
              "      <td>0</td>\n",
              "      <td>1</td>\n",
              "    </tr>\n",
              "    <tr>\n",
              "      <th>4</th>\n",
              "      <td>5</td>\n",
              "      <td>134</td>\n",
              "      <td>13.60</td>\n",
              "      <td>3.50</td>\n",
              "      <td>27.78</td>\n",
              "      <td>60</td>\n",
              "      <td>25.99</td>\n",
              "      <td>57.34</td>\n",
              "      <td>49</td>\n",
              "      <td>1</td>\n",
              "      <td>0</td>\n",
              "      <td>1</td>\n",
              "    </tr>\n",
              "    <tr>\n",
              "      <th>...</th>\n",
              "      <td>...</td>\n",
              "      <td>...</td>\n",
              "      <td>...</td>\n",
              "      <td>...</td>\n",
              "      <td>...</td>\n",
              "      <td>...</td>\n",
              "      <td>...</td>\n",
              "      <td>...</td>\n",
              "      <td>...</td>\n",
              "      <td>...</td>\n",
              "      <td>...</td>\n",
              "      <td>...</td>\n",
              "    </tr>\n",
              "    <tr>\n",
              "      <th>457</th>\n",
              "      <td>459</td>\n",
              "      <td>214</td>\n",
              "      <td>0.40</td>\n",
              "      <td>5.98</td>\n",
              "      <td>31.72</td>\n",
              "      <td>64</td>\n",
              "      <td>28.45</td>\n",
              "      <td>0.00</td>\n",
              "      <td>58</td>\n",
              "      <td>0</td>\n",
              "      <td>1</td>\n",
              "      <td>0</td>\n",
              "    </tr>\n",
              "    <tr>\n",
              "      <th>458</th>\n",
              "      <td>460</td>\n",
              "      <td>182</td>\n",
              "      <td>4.20</td>\n",
              "      <td>4.41</td>\n",
              "      <td>32.10</td>\n",
              "      <td>52</td>\n",
              "      <td>28.61</td>\n",
              "      <td>18.72</td>\n",
              "      <td>52</td>\n",
              "      <td>1</td>\n",
              "      <td>1</td>\n",
              "      <td>0</td>\n",
              "    </tr>\n",
              "    <tr>\n",
              "      <th>459</th>\n",
              "      <td>461</td>\n",
              "      <td>108</td>\n",
              "      <td>3.00</td>\n",
              "      <td>1.59</td>\n",
              "      <td>15.23</td>\n",
              "      <td>40</td>\n",
              "      <td>20.09</td>\n",
              "      <td>26.64</td>\n",
              "      <td>55</td>\n",
              "      <td>0</td>\n",
              "      <td>1</td>\n",
              "      <td>0</td>\n",
              "    </tr>\n",
              "    <tr>\n",
              "      <th>460</th>\n",
              "      <td>462</td>\n",
              "      <td>118</td>\n",
              "      <td>5.40</td>\n",
              "      <td>11.61</td>\n",
              "      <td>30.79</td>\n",
              "      <td>64</td>\n",
              "      <td>27.35</td>\n",
              "      <td>23.97</td>\n",
              "      <td>40</td>\n",
              "      <td>0</td>\n",
              "      <td>1</td>\n",
              "      <td>0</td>\n",
              "    </tr>\n",
              "    <tr>\n",
              "      <th>461</th>\n",
              "      <td>463</td>\n",
              "      <td>132</td>\n",
              "      <td>0.00</td>\n",
              "      <td>4.82</td>\n",
              "      <td>33.41</td>\n",
              "      <td>62</td>\n",
              "      <td>14.70</td>\n",
              "      <td>0.00</td>\n",
              "      <td>46</td>\n",
              "      <td>1</td>\n",
              "      <td>0</td>\n",
              "      <td>1</td>\n",
              "    </tr>\n",
              "  </tbody>\n",
              "</table>\n",
              "<p>462 rows × 12 columns</p>\n",
              "</div>"
            ],
            "text/plain": [
              "     row.names  sbp  tobacco    ldl  ...  age  chd  famhist_Absent  famhist_Present\n",
              "0            1  160    12.00   5.73  ...   52    1               0                1\n",
              "1            2  144     0.01   4.41  ...   63    1               1                0\n",
              "2            3  118     0.08   3.48  ...   46    0               0                1\n",
              "3            4  170     7.50   6.41  ...   58    1               0                1\n",
              "4            5  134    13.60   3.50  ...   49    1               0                1\n",
              "..         ...  ...      ...    ...  ...  ...  ...             ...              ...\n",
              "457        459  214     0.40   5.98  ...   58    0               1                0\n",
              "458        460  182     4.20   4.41  ...   52    1               1                0\n",
              "459        461  108     3.00   1.59  ...   55    0               1                0\n",
              "460        462  118     5.40  11.61  ...   40    0               1                0\n",
              "461        463  132     0.00   4.82  ...   46    1               0                1\n",
              "\n",
              "[462 rows x 12 columns]"
            ]
          },
          "metadata": {
            "tags": []
          },
          "execution_count": 10
        }
      ]
    },
    {
      "cell_type": "code",
      "metadata": {
        "id": "j73vT4UXFfEo"
      },
      "source": [
        "df = pd.get_dummies(data=d, columns=['famhist'])"
      ],
      "execution_count": null,
      "outputs": []
    },
    {
      "cell_type": "code",
      "metadata": {
        "colab": {
          "base_uri": "https://localhost:8080/"
        },
        "id": "UWWdlZu76pVZ",
        "outputId": "8ae053db-49f5-48de-d210-5559f281e9e2"
      },
      "source": [
        "stancol = ['sbp', 'tobacco', 'ldl', 'adiposity', 'typea', 'obesity', 'alcohol', 'age']\n",
        "ds = d['row.names']\n",
        "dsa = d[stancol].apply(lambda x: (x - x.mean()) / (x.std()))\n",
        "ds = pd.concat([ds,dsa], axis = 1)\n",
        "ds = pd.concat([ds,df['famhist_Absent'],df['famhist_Present'],d['chd']], axis = 1)\n",
        "print(ds)\n",
        "print(str(len(ds)))"
      ],
      "execution_count": null,
      "outputs": [
        {
          "output_type": "stream",
          "text": [
            "     row.names       sbp   tobacco  ...  famhist_Absent  famhist_Present  chd\n",
            "0            1  1.057417  1.821099  ...               0                1    1\n",
            "1            2  0.276789 -0.789382  ...               1                0    1\n",
            "2            3 -0.991731 -0.774141  ...               0                1    0\n",
            "3            4  1.545310  0.841352  ...               0                1    1\n",
            "4            5 -0.211103  2.169453  ...               0                1    1\n",
            "..         ...       ...       ...  ...             ...              ...  ...\n",
            "457        459  3.692037 -0.704470  ...               1                0    0\n",
            "458        460  2.130781  0.122871  ...               1                0    1\n",
            "459        461 -1.479624 -0.138395  ...               1                0    0\n",
            "460        462 -0.991731  0.384137  ...               1                0    0\n",
            "461        463 -0.308682 -0.791559  ...               0                1    1\n",
            "\n",
            "[462 rows x 12 columns]\n",
            "462\n"
          ],
          "name": "stdout"
        }
      ]
    },
    {
      "cell_type": "code",
      "metadata": {
        "id": "A3WEmlQ-tRdu"
      },
      "source": [
        "def sigmoidfunc(x):\n",
        "  hx = (1)/(1+(np.exp(-x))) #hypothesis function using numpy\n",
        "  return hx"
      ],
      "execution_count": null,
      "outputs": []
    },
    {
      "cell_type": "code",
      "metadata": {
        "id": "YZkhsRu7fW5t"
      },
      "source": [
        "def accuracy2(thetao, thetai, x, y):\n",
        "  ypred = (1)/(1+(np.exp(np.dot(thetai.T, x) + thetao)))\n",
        "  count = (ypred > 0.5).astype(int)\n",
        "  return np.sum((count == y)/462)"
      ],
      "execution_count": null,
      "outputs": []
    },
    {
      "cell_type": "code",
      "metadata": {
        "id": "_56rpnuLIac5"
      },
      "source": [
        "x = ds[['sbp', 'tobacco', 'ldl', 'adiposity', 'typea', 'obesity', 'alcohol', 'age', 'famhist_Absent', 'famhist_Present']]\n",
        "y = ds['chd']\n",
        "x = x.values\n",
        "y = y.values\n",
        "x = x.T\n",
        "y = y.reshape(1 , x.shape[1])"
      ],
      "execution_count": null,
      "outputs": []
    },
    {
      "cell_type": "code",
      "metadata": {
        "id": "RANTk_drK3DC"
      },
      "source": [
        "def graddescent(x,y,alpha,epoch):\n",
        "  error=[]\n",
        "  size = x.shape[1] \n",
        "  thetai = np.random.rand(x.shape[0])\n",
        "  thetao = np.random.rand()\n",
        "  for i in range (epoch):\n",
        "    h = sigmoidfunc((np.dot(thetai.T, x)) + thetao)\n",
        "    errorfunction = (-1/size) * np.sum(y * np.log(h) + (1-y) * np.log(1-h))\n",
        "    PDm = (1/(size)) * np.dot((h - y), x.T)\n",
        "    PDb = (1/(size)) * np.sum(h - y)\n",
        "    thetai = thetai - (alpha * PDm.T)\n",
        "    thetao = thetao - (alpha * PDb)\n",
        "    error.append(errorfunction)\n",
        "    ac2 = accuracy2(thetao, thetai, x, y)\n",
        "  print(\"accuracy: \", ac2)\n",
        "  return thetai, thetao, error\n"
      ],
      "execution_count": null,
      "outputs": []
    },
    {
      "cell_type": "code",
      "metadata": {
        "colab": {
          "base_uri": "https://localhost:8080/",
          "height": 329
        },
        "id": "edYT-ipw_JFi",
        "outputId": "fe90f603-7c84-4e67-c9dc-ba7b163e031c"
      },
      "source": [
        "epoch = 500\n",
        "alpha = 0.001\n",
        "thetai, thetao, error = graddescent(x,y,alpha,epoch)\n",
        "plt.title('Batch Error vs 500 Iterations Learning Rate 0.001')\n",
        "plt.xlabel(\"Iterations\")\n",
        "plt.ylabel(\"Error\")\n",
        "plt.scatter(range(epoch), error)\n",
        "plt.xlim([0, 500])"
      ],
      "execution_count": null,
      "outputs": [
        {
          "output_type": "stream",
          "text": [
            "accuracy:  3.569264069264069\n"
          ],
          "name": "stdout"
        },
        {
          "output_type": "execute_result",
          "data": {
            "text/plain": [
              "(0.0, 500.0)"
            ]
          },
          "metadata": {
            "tags": []
          },
          "execution_count": 137
        },
        {
          "output_type": "display_data",
          "data": {
            "image/png": "[encoded data removed]",
            "text/plain": [
              "<Figure size 432x288 with 1 Axes>"
            ]
          },
          "metadata": {
            "tags": [],
            "needs_background": "light"
          }
        }
      ]
    },
    {
      "cell_type": "code",
      "metadata": {
        "colab": {
          "base_uri": "https://localhost:8080/",
          "height": 329
        },
        "id": "azhE9uYPAEvJ",
        "outputId": "2978e968-092c-4086-9bef-430b7b922f29"
      },
      "source": [
        "epoch = 1000\n",
        "alpha = 0.001\n",
        "thetai, thetao, error = graddescent(x,y,alpha,epoch)\n",
        "plt.title('Batch Error vs 1000 Iterations Learning Rate 0.001')\n",
        "plt.xlabel(\"Iterations\")\n",
        "plt.ylabel(\"Error\")\n",
        "plt.scatter(range(epoch), error)\n",
        "plt.xlim([0, 1000])"
      ],
      "execution_count": null,
      "outputs": [
        {
          "output_type": "stream",
          "text": [
            "accuracy:  3.1731601731601735\n"
          ],
          "name": "stdout"
        },
        {
          "output_type": "execute_result",
          "data": {
            "text/plain": [
              "(0.0, 1000.0)"
            ]
          },
          "metadata": {
            "tags": []
          },
          "execution_count": 136
        },
        {
          "output_type": "display_data",
          "data": {
            "image/png": "[encoded data removed]",
            "text/plain": [
              "<Figure size 432x288 with 1 Axes>"
            ]
          },
          "metadata": {
            "tags": [],
            "needs_background": "light"
          }
        }
      ]
    },
    {
      "cell_type": "code",
      "metadata": {
        "colab": {
          "base_uri": "https://localhost:8080/",
          "height": 329
        },
        "id": "vxtPx8knAJKC",
        "outputId": "8585b58a-528c-4cad-e5d7-ed0149ebc745"
      },
      "source": [
        "epoch = 10000\n",
        "alpha = 0.001\n",
        "thetai, thetao, error = graddescent(x,y,alpha,epoch)\n",
        "plt.title('Batch Error vs 10000 Iterations Learning Rate 0.001')\n",
        "plt.xlabel(\"Iterations\")\n",
        "plt.ylabel(\"Error\")\n",
        "plt.scatter(range(epoch), error)\n",
        "plt.xlim([0, 10000])"
      ],
      "execution_count": null,
      "outputs": [
        {
          "output_type": "stream",
          "text": [
            "accuracy:  2.621212121212121\n"
          ],
          "name": "stdout"
        },
        {
          "output_type": "execute_result",
          "data": {
            "text/plain": [
              "(0.0, 10000.0)"
            ]
          },
          "metadata": {
            "tags": []
          },
          "execution_count": 138
        },
        {
          "output_type": "display_data",
          "data": {
            "image/png": "[encoded data removed]",
            "text/plain": [
              "<Figure size 432x288 with 1 Axes>"
            ]
          },
          "metadata": {
            "tags": [],
            "needs_background": "light"
          }
        }
      ]
    },
    {
      "cell_type": "code",
      "metadata": {
        "colab": {
          "base_uri": "https://localhost:8080/",
          "height": 329
        },
        "id": "2CAoNgjXB0_S",
        "outputId": "1e2f09f2-fe50-4587-9e1c-a5afbd50dba4"
      },
      "source": [
        "epoch = 500\n",
        "alpha = 0.0001\n",
        "thetai, thetao, error = graddescent(x,y,alpha,epoch)\n",
        "plt.title('Batch Error vs 500 Iterations Learning Rate 0.0001')\n",
        "plt.xlabel(\"Iterations\")\n",
        "plt.ylabel(\"Error\")\n",
        "plt.scatter(range(epoch), error)\n",
        "plt.xlim([0, 500])"
      ],
      "execution_count": null,
      "outputs": [
        {
          "output_type": "stream",
          "text": [
            "accuracy:  3.74025974025974\n"
          ],
          "name": "stdout"
        },
        {
          "output_type": "execute_result",
          "data": {
            "text/plain": [
              "(0.0, 500.0)"
            ]
          },
          "metadata": {
            "tags": []
          },
          "execution_count": 134
        },
        {
          "output_type": "display_data",
          "data": {
            "image/png": "[encoded data removed]",
            "text/plain": [
              "<Figure size 432x288 with 1 Axes>"
            ]
          },
          "metadata": {
            "tags": [],
            "needs_background": "light"
          }
        }
      ]
    },
    {
      "cell_type": "code",
      "metadata": {
        "colab": {
          "base_uri": "https://localhost:8080/",
          "height": 329
        },
        "id": "XHuFfLVQB4AT",
        "outputId": "48308362-b0a7-4848-e209-dad1cf626251"
      },
      "source": [
        "epoch = 1000\n",
        "alpha = 0.0001\n",
        "thetai, thetao, error = graddescent(x,y,alpha,epoch)\n",
        "plt.title('Batch Error vs 1000 Iterations Learning Rate 0.0001')\n",
        "plt.xlabel(\"Iterations\")\n",
        "plt.ylabel(\"Error\")\n",
        "plt.scatter(range(epoch), error)\n",
        "plt.xlim([0, 1000])"
      ],
      "execution_count": null,
      "outputs": [
        {
          "output_type": "stream",
          "text": [
            "accuracy:  3.6969696969696972\n"
          ],
          "name": "stdout"
        },
        {
          "output_type": "execute_result",
          "data": {
            "text/plain": [
              "(0.0, 1000.0)"
            ]
          },
          "metadata": {
            "tags": []
          },
          "execution_count": 133
        },
        {
          "output_type": "display_data",
          "data": {
            "image/png": "[encoded data removed]",
            "text/plain": [
              "<Figure size 432x288 with 1 Axes>"
            ]
          },
          "metadata": {
            "tags": [],
            "needs_background": "light"
          }
        }
      ]
    },
    {
      "cell_type": "code",
      "metadata": {
        "colab": {
          "base_uri": "https://localhost:8080/",
          "height": 329
        },
        "id": "VUcnd06cB7sp",
        "outputId": "1ca0b9d9-c735-4ec1-ca64-7e9c8fbec11f"
      },
      "source": [
        "epoch = 10000\n",
        "alpha = 0.0001\n",
        "thetai, thetao, error = graddescent(x,y,alpha,epoch)\n",
        "plt.title('Batch Error vs 10000 Iterations Learning Rate 0.0001')\n",
        "plt.xlabel(\"Iterations\")\n",
        "plt.ylabel(\"Error\")\n",
        "plt.scatter(range(epoch), error)\n",
        "plt.xlim([0, 10000])"
      ],
      "execution_count": null,
      "outputs": [
        {
          "output_type": "stream",
          "text": [
            "accuracy:  3.1731601731601735\n"
          ],
          "name": "stdout"
        },
        {
          "output_type": "execute_result",
          "data": {
            "text/plain": [
              "(0.0, 10000.0)"
            ]
          },
          "metadata": {
            "tags": []
          },
          "execution_count": 132
        },
        {
          "output_type": "display_data",
          "data": {
            "image/png": "[encoded data removed]",
            "text/plain": [
              "<Figure size 432x288 with 1 Axes>"
            ]
          },
          "metadata": {
            "tags": [],
            "needs_background": "light"
          }
        }
      ]
    },
    {
      "cell_type": "code",
      "metadata": {
        "id": "_TCAy8JTCPo3"
      },
      "source": [
        "x1 = ds[['sbp', 'tobacco', 'ldl', 'adiposity', 'typea', 'obesity', 'alcohol', 'age', 'famhist_Absent', 'famhist_Present']]\n",
        "y1 = ds['chd']\n",
        "x1 = x1.values\n",
        "y1 = y1.values\n",
        "x1 = x1.T\n",
        "y1 = y1.reshape(1 , x1.shape[1])"
      ],
      "execution_count": null,
      "outputs": []
    },
    {
      "cell_type": "code",
      "metadata": {
        "id": "1JbvV82bDwQi"
      },
      "source": [
        "def minibatchgraddescent(x,y,epoch,batchsize1,alpha):\n",
        "  error=[]\n",
        "  epoch_list= []\n",
        "  size = x.shape[1] \n",
        "  thetai = np.random.rand(x1.shape[0])\n",
        "  thetao = np.random.rand()\n",
        "  for i in range (epoch):\n",
        "    randomsam = np.random.randint(0, x.shape[0])\n",
        "    xsam = x1[randomsam:randomsam+batchsize1]\n",
        "    ysam = y1[randomsam:randomsam+batchsize1]\n",
        "    h = sigmoidfunc((np.dot(thetai.T, x)) + thetao)\n",
        "    errorfunction = (-1/size) * np.sum(y * np.log(h) + (1-y) * np.log(1-h))\n",
        "    PDm = (1/(size)) * np.dot((h - y), x.T)\n",
        "    PDb = (1/(size)) * np.sum(h - y)\n",
        "    thetai = thetai - (alpha * PDm.T)\n",
        "    thetao = thetao - (alpha * PDb)\n",
        "    error.append(errorfunction)\n",
        "    ac2 = accuracy2(thetao, thetai, x, y)\n",
        "  print(\"accuracy: \", ac2)\n",
        "  return thetai, thetao, errorfunction, error"
      ],
      "execution_count": null,
      "outputs": []
    },
    {
      "cell_type": "code",
      "metadata": {
        "colab": {
          "base_uri": "https://localhost:8080/",
          "height": 329
        },
        "id": "o_omAQDuG27a",
        "outputId": "e600055c-d726-4fe2-a2bd-907dce1a5a8a"
      },
      "source": [
        "minibatchgraddescent(x,y,epoch=500,batchsize1=50,alpha=0.001)\n",
        "plt.scatter(range(epoch), error)\n",
        "plt.title('Mini-Batch Error vs 500 Iterations Learning Rate 0.001')\n",
        "plt.xlabel(\"Iterations\")\n",
        "plt.ylabel(\"Error\")\n",
        "plt.scatter(range(epoch), error)\n",
        "plt.xlim([0, 500])"
      ],
      "execution_count": null,
      "outputs": [
        {
          "output_type": "stream",
          "text": [
            "accuracy:  3.357142857142857\n"
          ],
          "name": "stdout"
        },
        {
          "output_type": "execute_result",
          "data": {
            "text/plain": [
              "(0.0, 500.0)"
            ]
          },
          "metadata": {
            "tags": []
          },
          "execution_count": 124
        },
        {
          "output_type": "display_data",
          "data": {
            "image/png": "[encoded data removed]",
            "text/plain": [
              "<Figure size 432x288 with 1 Axes>"
            ]
          },
          "metadata": {
            "tags": [],
            "needs_background": "light"
          }
        }
      ]
    },
    {
      "cell_type": "code",
      "metadata": {
        "colab": {
          "base_uri": "https://localhost:8080/",
          "height": 329
        },
        "id": "-v8FLpOCJzyW",
        "outputId": "a05c33ca-0f16-411a-bdc1-9598c41c784e"
      },
      "source": [
        "minibatchgraddescent(x,y,epoch=1000,batchsize1=50,alpha=0.001)\n",
        "plt.scatter(range(epoch), error)\n",
        "plt.title('Mini-Batch Error vs 1000 Iterations Learning Rate 0.001')\n",
        "plt.xlabel(\"Iterations\")\n",
        "plt.ylabel(\"Error\")\n",
        "plt.scatter(range(epoch), error)\n",
        "plt.xlim([0, 1000])"
      ],
      "execution_count": null,
      "outputs": [
        {
          "output_type": "stream",
          "text": [
            "accuracy:  3.2445887445887447\n"
          ],
          "name": "stdout"
        },
        {
          "output_type": "execute_result",
          "data": {
            "text/plain": [
              "(0.0, 1000.0)"
            ]
          },
          "metadata": {
            "tags": []
          },
          "execution_count": 125
        },
        {
          "output_type": "display_data",
          "data": {
            "image/png": "[encoded data removed]",
            "text/plain": [
              "<Figure size 432x288 with 1 Axes>"
            ]
          },
          "metadata": {
            "tags": [],
            "needs_background": "light"
          }
        }
      ]
    },
    {
      "cell_type": "code",
      "metadata": {
        "colab": {
          "base_uri": "https://localhost:8080/",
          "height": 329
        },
        "id": "p3oic0keJ6cY",
        "outputId": "cdffd41e-786a-4346-c01d-87a6a1a4af60"
      },
      "source": [
        "minibatchgraddescent(x,y,epoch=10000,batchsize1=50,alpha=0.001)\n",
        "plt.scatter(range(epoch), error)\n",
        "plt.title('Mini-Batch Error vs 10000 Iterations Learning Rate 0.001')\n",
        "plt.xlabel(\"Iterations\")\n",
        "plt.ylabel(\"Error\")\n",
        "plt.scatter(range(epoch), error)\n",
        "plt.xlim([0, 10000])"
      ],
      "execution_count": null,
      "outputs": [
        {
          "output_type": "stream",
          "text": [
            "accuracy:  2.6428571428571432\n"
          ],
          "name": "stdout"
        },
        {
          "output_type": "execute_result",
          "data": {
            "text/plain": [
              "(0.0, 10000.0)"
            ]
          },
          "metadata": {
            "tags": []
          },
          "execution_count": 131
        },
        {
          "output_type": "display_data",
          "data": {
            "image/png": "[encoded data removed]",
            "text/plain": [
              "<Figure size 432x288 with 1 Axes>"
            ]
          },
          "metadata": {
            "tags": [],
            "needs_background": "light"
          }
        }
      ]
    },
    {
      "cell_type": "code",
      "metadata": {
        "colab": {
          "base_uri": "https://localhost:8080/",
          "height": 329
        },
        "id": "XgvMCfvuJ-Xw",
        "outputId": "ae33082e-211c-4a81-d2ce-9429a078060c"
      },
      "source": [
        "minibatchgraddescent(x,y,epoch=500,batchsize1=50,alpha=0.0001)\n",
        "plt.scatter(range(epoch), error)\n",
        "plt.title('Mini-Batch Error vs 500 Iterations Learning Rate 0.0001')\n",
        "plt.xlabel(\"Iterations\")\n",
        "plt.ylabel(\"Error\")\n",
        "plt.scatter(range(epoch), error)\n",
        "plt.xlim([0, 500])"
      ],
      "execution_count": null,
      "outputs": [
        {
          "output_type": "stream",
          "text": [
            "accuracy:  4.824675324675325\n"
          ],
          "name": "stdout"
        },
        {
          "output_type": "execute_result",
          "data": {
            "text/plain": [
              "(0.0, 500.0)"
            ]
          },
          "metadata": {
            "tags": []
          },
          "execution_count": 129
        },
        {
          "output_type": "display_data",
          "data": {
            "image/png": "[encoded data removed]",
            "text/plain": [
              "<Figure size 432x288 with 1 Axes>"
            ]
          },
          "metadata": {
            "tags": [],
            "needs_background": "light"
          }
        }
      ]
    },
    {
      "cell_type": "code",
      "metadata": {
        "colab": {
          "base_uri": "https://localhost:8080/",
          "height": 329
        },
        "id": "9SSELBcQKDrQ",
        "outputId": "63a22e9e-9807-436a-e744-e4617ec4e9d4"
      },
      "source": [
        "minibatchgraddescent(x,y,epoch=1000,batchsize1=50,alpha=0.0001)\n",
        "plt.scatter(range(epoch), error)\n",
        "plt.title('Mini-Batch Error vs 1000 Iterations Learning Rate 0.0001')\n",
        "plt.xlabel(\"Iterations\")\n",
        "plt.ylabel(\"Error\")\n",
        "plt.scatter(range(epoch), error)\n",
        "plt.xlim([0, 1000])"
      ],
      "execution_count": null,
      "outputs": [
        {
          "output_type": "stream",
          "text": [
            "accuracy:  3.642857142857143\n"
          ],
          "name": "stdout"
        },
        {
          "output_type": "execute_result",
          "data": {
            "text/plain": [
              "(0.0, 1000.0)"
            ]
          },
          "metadata": {
            "tags": []
          },
          "execution_count": 128
        },
        {
          "output_type": "display_data",
          "data": {
            "image/png": "[encoded data removed]",
            "text/plain": [
              "<Figure size 432x288 with 1 Axes>"
            ]
          },
          "metadata": {
            "tags": [],
            "needs_background": "light"
          }
        }
      ]
    },
    {
      "cell_type": "code",
      "metadata": {
        "colab": {
          "base_uri": "https://localhost:8080/",
          "height": 329
        },
        "id": "Mm_U9owCKSMw",
        "outputId": "617a9b64-e41b-49a1-e165-1a4828767ef5"
      },
      "source": [
        "minibatchgraddescent(x,y,epoch=10000,batchsize1=50,alpha=0.0001)\n",
        "plt.scatter(range(epoch), error)\n",
        "plt.title('Mini-Batch Error vs 10000 Iterations Learning Rate 0.0001')\n",
        "plt.xlabel(\"Iterations\")\n",
        "plt.ylabel(\"Error\")\n",
        "plt.scatter(range(epoch), error)\n",
        "plt.xlim([0, 10000])"
      ],
      "execution_count": null,
      "outputs": [
        {
          "output_type": "stream",
          "text": [
            "accuracy:  3.183982683982684\n"
          ],
          "name": "stdout"
        },
        {
          "output_type": "execute_result",
          "data": {
            "text/plain": [
              "(0.0, 10000.0)"
            ]
          },
          "metadata": {
            "tags": []
          },
          "execution_count": 139
        },
        {
          "output_type": "display_data",
          "data": {
            "image/png": "[encoded data removed]",
            "text/plain": [
              "<Figure size 432x288 with 1 Axes>"
            ]
          },
          "metadata": {
            "tags": [],
            "needs_background": "light"
          }
        }
      ]
    },
    {
      "cell_type": "code",
      "metadata": {
        "colab": {
          "base_uri": "https://localhost:8080/"
        },
        "id": "x6b0A3YDX5op",
        "outputId": "baffb6eb-6c51-425a-8e44-dad7f7a714b4"
      },
      "source": [
        "from sklearn.linear_model import LogisticRegression\n",
        "from sklearn.preprocessing import StandardScaler\n",
        "from sklearn.preprocessing import OneHotEncoder\n",
        "\n",
        "dsk = pd.read_csv('heart.csv')\n",
        "scaler = StandardScaler()\n",
        "OHA    = OneHotEncoder(sparse=False)\n",
        "categ  = ['famhist']\n",
        "numer = ['sbp', 'tobacco', 'ldl', 'adiposity', 'typea', 'obesity', 'alcohol', 'age']\n",
        "\n",
        "# Scale and Encode Separate Columns\n",
        "snumer  = scaler.fit_transform(dsk[numer]) \n",
        "encodcateg =  OHA.fit_transform(dsk[categ])\n",
        "\n",
        "# Concatenate (Column-Bind) Processed Columns Back Together\n",
        "dsk2 = np.concatenate([snumer, encodcateg], axis=1)\n",
        "LR = LogisticRegression()\n",
        "LR.fit(xsklr, ysklr)\n",
        "ysklrpred = LR.predict(xsklr)\n",
        "acusklr = accuracy_score(ysklr,ysklrpred)\n",
        "print(\"Accuracy: \",acusklr*100)\n"
      ],
      "execution_count": null,
      "outputs": [
        {
          "output_type": "stream",
          "text": [
            "Accuracy:  63.41991341991342\n"
          ],
          "name": "stdout"
        }
      ]
    }
  ]
}